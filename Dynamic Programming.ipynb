{
 "cells": [
  {
   "cell_type": "markdown",
   "id": "32f5c76abbdf3744",
   "metadata": {},
   "source": [
    "# Homework 2"
   ]
  },
  {
   "cell_type": "markdown",
   "id": "4303084a11fe95f2",
   "metadata": {},
   "source": [
    "## Introduction\n",
    "The objective of this assignment is to examine the fundamentals of dynamic programming by implementing an edit distance algorithm. This approach emphasizes understanding how dynamic programming optimizes the process of comparing sequences by breaking down the problem into manageable sub-problems. We begin by generating random DNA sequences to serve as test cases, then apply our dynamic programming solution to compute the minimum number of operations required to transform one sequence into another. By testing our algorithm on real data, we further explore the efficiency and robustness of dynamic programming in solving complex computational tasks.\n"
   ]
  },
  {
   "cell_type": "code",
   "id": "7f1614c3f828de1e",
   "metadata": {
    "ExecuteTime": {
     "end_time": "2025-02-19T05:25:11.062200Z",
     "start_time": "2025-02-19T05:25:11.047199Z"
    }
   },
   "source": [
    "import random\n",
    "import numpy as np\n",
    "import matplotlib.pyplot as plt\n",
    "import pandas as pd"
   ],
   "outputs": [],
   "execution_count": 24
  },
  {
   "cell_type": "markdown",
   "id": "76d4df93dfad8cc4",
   "metadata": {},
   "source": [
    "## Function Implementation\n",
    "Here we implement two functions in order to apply dynamic programming towards a real life case. The first function we implement generates a random DNA sequence of length 400 with nucleotides adenine (A), cytosine (C), thymine (T), and guanine (G). The next function we implement calculates the edit distance between two strings. In order to accomplish this we utilize dynamic programming, saving essential edit distance values in a matrix of size (n + 1) x (m + 1) with n being the length of the input string and m being the length of the desired string. We then fill the top row and left-most column of the matrix according to the deletion costs and insertion costs respectively. We use those values to calculate the remaining values within the matrix and find the total edit distance as the matrix value \\[n+1, m+1], which we return."
   ]
  },
  {
   "cell_type": "code",
   "id": "2983d9f826eddb30",
   "metadata": {
    "ExecuteTime": {
     "end_time": "2025-02-19T05:25:16.896412Z",
     "start_time": "2025-02-19T05:25:16.890756Z"
    }
   },
   "source": [
    "# Create a function to generate random DNA sequences\n",
    "def random_sequence(length=400):\n",
    "    sample = 'ACTG'\n",
    "    return ''.join(random.choices(sample, k=length))\n",
    "\n",
    "# Create the edit distance algorithm\n",
    "def edit_distance(x, y):\n",
    "    n = len(x)\n",
    "    m = len(y)\n",
    "    \n",
    "    # Create a matrix of size (n + 1) x (m + 1)\n",
    "    opt = [[0] * (m + 1) for _ in range (n + 1)]\n",
    "    \n",
    "    # Base cases: if y is empty or x is empty\n",
    "    for i in range(n + 1):\n",
    "        opt[i][0] = i\n",
    "    for j in range(m + 1):\n",
    "        opt[0][j] = j\n",
    "        \n",
    "    # Compute edit distances\n",
    "    for i in range(1, n + 1):\n",
    "        for j in range(1, m + 1):\n",
    "            if x[i - 1] == y[j - 1]:\n",
    "                cost = 0 # Cost if they are the same\n",
    "            else:\n",
    "                cost = 1 # Cost for substitution\n",
    "                \n",
    "            opt[i][j] = min(opt[i - 1][j - 1] + cost, # Cost for substitution\n",
    "                            opt[i - 1][j] + 1, # Cost for deletion\n",
    "                            opt[i][j - 1] + 1) # Cost for addition\n",
    "    \n",
    "    return opt[n][m] # Edit distance is at the corner of the matrix"
   ],
   "outputs": [],
   "execution_count": 25
  },
  {
   "cell_type": "markdown",
   "id": "f4773d198ff97638",
   "metadata": {},
   "source": [
    "## Analysis and Interpretation\n",
    "In this section, we simulate a number of random DNA sequences in order to determine the trend in edit distances. For out study, we generate 20 random DNA sequences. For each distinct pair of DNA sequences 20C2 or 190 pairs, we compute the edit distance and store it within an array. Then we graph the edit distance distribution on a histogram and display the average.\n",
    "\n",
    "According to the graph, the edit distance distribution seems to be relatively symmetric, distributed around the mean of approximately 213. This is likely because of the fact that each DNA sequence in our sample is randomly generated, leading the edit distances to be approximately normally distributed and centered around an edit distance of about half the length of the genetic sequences."
   ]
  },
  {
   "cell_type": "code",
   "id": "b500a7557269d1d7",
   "metadata": {
    "ExecuteTime": {
     "end_time": "2025-02-19T05:25:35.282710Z",
     "start_time": "2025-02-19T05:25:24.818779Z"
    }
   },
   "source": [
    "# Set seed\n",
    "random.seed(18)\n",
    "\n",
    "# Generate 20 random DNA sequences\n",
    "sequences = []\n",
    "for i in range(20):\n",
    "    sequences.append(random_sequence())\n",
    "    \n",
    "# Calculate the edit distance between each distinct pair of sequences\n",
    "editDistances = []\n",
    "for i in range(len(sequences)):\n",
    "    for j in range(i + 1, len(sequences)):\n",
    "        editDistances.append(edit_distance(sequences[i], sequences[j]))\n",
    "        \n",
    "# Calculate average edit distance\n",
    "mean = np.mean(editDistances)\n",
    "\n",
    "# Plot edit distances\n",
    "plt.figure(figsize=(10, 6))\n",
    "plt.hist(editDistances)\n",
    "plt.title('Edit Distance Distribution')\n",
    "plt.axvline(mean, color='red', linestyle='dashed', linewidth=2)\n",
    "plt.show()"
   ],
   "outputs": [
    {
     "data": {
      "text/plain": [
       "<Figure size 1000x600 with 1 Axes>"
      ],
      "image/png": "[encoded data removed]"
     },
     "metadata": {},
     "output_type": "display_data"
    }
   ],
   "execution_count": 26
  },
  {
   "cell_type": "markdown",
   "id": "24e4c15bca7890ac",
   "metadata": {},
   "source": [
    "## Application\n",
    "Here we apply our edit distance algorithm towards real life data, specifically genetic sequence data from the National Center for Biotechnology Information. In our study, we compare the edit distances for each distinct pair within a group of 12 species (12C2 or 66 pairs). We repeat the same procedure from our simulation, calculating the mean of the edit distances and plotting the distribution in a histogram.\n",
    "\n",
    "This time, our edit distance distribution seems to be left skewed with an average edit distance of about 122. The highest frequency of edit distances have about 175 while the lowest frequency of edit distances having very low edit distances. Overall, compared to the simulation, which was entirely random, these edit distances are a lot lower. This can be attributed to the fact that all of the species within the group are of hominids with similar genetic sequences. Particularly, the lowest edit distances can be associated with closely related pairs like the German and Russian Neanderthals and the Puti and Jari Orangutan. The highest edit distances can also be associated with the least related pairs such as the European Human and either Orangutan."
   ]
  },
  {
   "cell_type": "code",
   "id": "92c59f25283336d0",
   "metadata": {
    "ExecuteTime": {
     "end_time": "2025-02-19T05:25:47.256912Z",
     "start_time": "2025-02-19T05:25:44.338668Z"
    }
   },
   "source": [
    "# Created my own CSV file because BioPython library did not work\n",
    "df = pd.read_csv('Species Data (ECS 117 HW 2).csv')\n",
    "df['DNA Sequence'] = df['DNA Sequence'].astype(str).str.replace('\\n', '', regex=False)\n",
    "sequences2 = df['DNA Sequence'].values\n",
    "\n",
    "# Calculate the edit distance for each distinct pair within the species data\n",
    "editDistances2 = []\n",
    "for i in range(len(sequences2)):\n",
    "    for j in range(i + 1, len(sequences2)):\n",
    "        editDistances2.append(edit_distance(sequences2[i], sequences2[j]))\n",
    "\n",
    "# Calculate average edit distance for the species data\n",
    "mean2 = np.mean(editDistances2)\n",
    "\n",
    "# Plot the new edit distances\n",
    "plt.figure(figsize=(10, 6))\n",
    "plt.hist(editDistances2)\n",
    "plt.title('Species Data Edit Distance Distribution')\n",
    "plt.axvline(mean2, color='red', linestyle='dashed', linewidth=2)\n",
    "plt.show()"
   ],
   "outputs": [
    {
     "data": {
      "text/plain": [
       "<Figure size 1000x600 with 1 Axes>"
      ],
      "image/png": "[encoded data removed]"
     },
     "metadata": {},
     "output_type": "display_data"
    }
   ],
   "execution_count": 27
  },
  {
   "metadata": {},
   "cell_type": "markdown",
   "source": [
    "## Conclusion\n",
    "This assignment provided valuable insight into the trends in edit distances between randomly generated DNA sequences as well as existing, related DNA sequences. These insights were all made possible with the use of dynamic programming, in which we were able to conserve computational power by storing calculations within a matrix to avoid having to use recursion. Leveraging the power of dynamic programming, we were able to depict that the distribution of randomly generated DNA sequences was approximately normally distributed around a mean of half the size of the genetic sequence length. In our real life data study, we were further able to discern that related species shared similar DNA sequences that had edit distances of almost 0. Overall, this study has further solidified the usefulness of dynamic programming, allowing us to apply the fundamentals of non-recursive programming and optimize computational tasks for the future. "
   ],
   "id": "3af93e670c64672e"
  }
 ],
 "metadata": {
  "kernelspec": {
   "display_name": "Python 3 (ipykernel)",
   "language": "python",
   "name": "python3"
  },
  "language_info": {
   "codemirror_mode": {
    "name": "ipython",
    "version": 3
   },
   "file_extension": ".py",
   "mimetype": "text/x-python",
   "name": "python",
   "nbconvert_exporter": "python",
   "pygments_lexer": "ipython3",
   "version": "3.12.2"
  }
 },
 "nbformat": 4,
 "nbformat_minor": 5
}
